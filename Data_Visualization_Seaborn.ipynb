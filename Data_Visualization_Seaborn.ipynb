{
  "nbformat": 4,
  "nbformat_minor": 0,
  "metadata": {
    "colab": {
      "name": "Data_Visualization_Seaborn.ipynb",
      "provenance": []
    },
    "kernelspec": {
      "name": "python3",
      "display_name": "Python 3"
    },
    "language_info": {
      "name": "python"
    }
  },
  "cells": [
    {
      "cell_type": "code",
      "metadata": {
        "id": "PTAQSVOlgDKE"
      },
      "source": [
        " %matplotlib inline\n",
        "import numpy as np\n",
        "import pandas as pd\n",
        "import matplotlib.pyplot as plt\n",
        "import seaborn as sns"
      ],
      "execution_count": 3,
      "outputs": []
    },
    {
      "cell_type": "code",
      "metadata": {
        "id": "RSTmE_NTgggj"
      },
      "source": [
        "print(sns.get_dataset_names())\n",
        "crash_df = sns.load_dataset('car_crashes')\n",
        "crash_df.tail()"
      ],
      "execution_count": null,
      "outputs": []
    },
    {
      "cell_type": "markdown",
      "metadata": {
        "id": "gdVj1KJnhGV8"
      },
      "source": [
        "**Distribution Plot**"
      ]
    },
    {
      "cell_type": "code",
      "metadata": {
        "id": "w3OuJJHYhLNr"
      },
      "source": [
        "sns.distplot(crash_df[\"not_distracted\"]) # polynomial line is showing the kernel density"
      ],
      "execution_count": null,
      "outputs": []
    },
    {
      "cell_type": "code",
      "metadata": {
        "id": "NHFb2NZehr5d",
        "colab": {
          "base_uri": "https://localhost:8080/",
          "height": 355
        },
        "outputId": "23adbab1-c211-4962-a2f2-c92ef58e65f3"
      },
      "source": [
        "sns.distplot(crash_df[\"not_distracted\"], kde=False)"
      ],
      "execution_count": 6,
      "outputs": [
        {
          "output_type": "stream",
          "text": [
            "/usr/local/lib/python3.7/dist-packages/seaborn/distributions.py:2557: FutureWarning: `distplot` is a deprecated function and will be removed in a future version. Please adapt your code to use either `displot` (a figure-level function with similar flexibility) or `histplot` (an axes-level function for histograms).\n",
            "  warnings.warn(msg, FutureWarning)\n"
          ],
          "name": "stderr"
        },
        {
          "output_type": "execute_result",
          "data": {
            "text/plain": [
              "<matplotlib.axes._subplots.AxesSubplot at 0x7fc491a10810>"
            ]
          },
          "metadata": {
            "tags": []
          },
          "execution_count": 6
        },
        {
          "output_type": "display_data",
          "data": {
            "image/png": "[encoded data removed]",
            "text/plain": [
              "<Figure size 432x288 with 1 Axes>"
            ]
          },
          "metadata": {
            "tags": [],
            "needs_background": "light"
          }
        }
      ]
    },
    {
      "cell_type": "markdown",
      "metadata": {
        "id": "W1w-CBUhiGLL"
      },
      "source": [
        "**Joint Plot**"
      ]
    },
    {
      "cell_type": "code",
      "metadata": {
        "id": "GNro5VROiFNk"
      },
      "source": [
        "sns.jointplot(x='speeding', y='alcohol', data=crash_df, kind='reg') #regression type graph . Osthirr"
      ],
      "execution_count": null,
      "outputs": []
    },
    {
      "cell_type": "code",
      "metadata": {
        "id": "sRIrFrOrjPID"
      },
      "source": [
        "sns.jointplot(x='speeding', y='alcohol', data=crash_df, kind='kde')"
      ],
      "execution_count": null,
      "outputs": []
    },
    {
      "cell_type": "code",
      "metadata": {
        "id": "E7NkKIGvji00"
      },
      "source": [
        "sns.jointplot(x='speeding', y='alcohol', data=crash_df, kind='hex')"
      ],
      "execution_count": null,
      "outputs": []
    },
    {
      "cell_type": "markdown",
      "metadata": {
        "id": "hM4hskkzjpGk"
      },
      "source": [
        "**KDE Plot**"
      ]
    },
    {
      "cell_type": "code",
      "metadata": {
        "id": "egUFjXAQjrmU"
      },
      "source": [
        "sns.kdeplot(crash_df['alcohol'])"
      ],
      "execution_count": null,
      "outputs": []
    },
    {
      "cell_type": "markdown",
      "metadata": {
        "id": "wM_NnP6Mj0NE"
      },
      "source": [
        "**Pair Plots**"
      ]
    },
    {
      "cell_type": "code",
      "metadata": {
        "id": "AnEgOnb7j4Is"
      },
      "source": [
        "sns.pairplot(crash_df)"
      ],
      "execution_count": null,
      "outputs": []
    },
    {
      "cell_type": "code",
      "metadata": {
        "id": "4r84ySVrkOQM"
      },
      "source": [
        "tips_df = sns.load_dataset('tips')\n",
        "sns.pairplot(tips_df, hue='sex', palette='Blues_r') # hue used for categorical data"
      ],
      "execution_count": null,
      "outputs": []
    },
    {
      "cell_type": "markdown",
      "metadata": {
        "id": "rHfvWgSTq_nd"
      },
      "source": [
        "**Rug Plot**"
      ]
    },
    {
      "cell_type": "code",
      "metadata": {
        "id": "m-uL3cbvrCbt"
      },
      "source": [
        "sns.rugplot(tips_df['tip'])"
      ],
      "execution_count": null,
      "outputs": []
    },
    {
      "cell_type": "markdown",
      "metadata": {
        "id": "bTTUV1mWrPWZ"
      },
      "source": [
        "**Styling**"
      ]
    },
    {
      "cell_type": "code",
      "metadata": {
        "id": "CmPr5DUhrRlk"
      },
      "source": [
        "# sns.set_style('white')\n",
        "# sns.set_style('darkgrid')\n",
        "# sns.set_style('whitegrid')\n",
        "# sns.set_style('dark')\n",
        "sns.set_style('ticks')\n",
        "\n",
        "\n",
        "plt.figure(figsize=(8,4)) \n",
        "sns.set_context('paper', font_scale=1.4)\n",
        "# sns.set_context('talk', font_scale=1.4)\n",
        "# sns.set_context('poster', font_scale=1.4)\n",
        "\n",
        "sns.jointplot(x='speeding', y='alcohol', data=crash_df, kind='reg')\n",
        "\n",
        "sns.despine(left=True) #left er axis thakbe na\n",
        "# sns.despine(left=True, bottom=True, right=True, top=True)"
      ],
      "execution_count": null,
      "outputs": []
    },
    {
      "cell_type": "markdown",
      "metadata": {
        "id": "wvj3W3V6tZmi"
      },
      "source": [
        "#Categorical Plot"
      ]
    },
    {
      "cell_type": "markdown",
      "metadata": {
        "id": "TG9iXZo0tkwE"
      },
      "source": [
        "**Bar Plot**"
      ]
    },
    {
      "cell_type": "code",
      "metadata": {
        "id": "9lGr_fH1tnS8"
      },
      "source": [
        "sns.barplot(x='sex', y='total_bill', data=tips_df, estimator=np.median) #median er basis e plot hocce"
      ],
      "execution_count": null,
      "outputs": []
    },
    {
      "cell_type": "markdown",
      "metadata": {
        "id": "H6DYt85zuD82"
      },
      "source": [
        "**Count Plot**"
      ]
    },
    {
      "cell_type": "code",
      "metadata": {
        "id": "CCRoNKcSuF22",
        "colab": {
          "base_uri": "https://localhost:8080/",
          "height": 305
        },
        "outputId": "77820fd3-62a9-4e74-8024-40b56e65d528"
      },
      "source": [
        "sns.countplot(x='sex',data=tips_df) #count number of occurences"
      ],
      "execution_count": 16,
      "outputs": [
        {
          "output_type": "execute_result",
          "data": {
            "text/plain": [
              "<matplotlib.axes._subplots.AxesSubplot at 0x7fc4828fa3d0>"
            ]
          },
          "metadata": {
            "tags": []
          },
          "execution_count": 16
        },
        {
          "output_type": "display_data",
          "data": {
            "image/png": "[encoded data removed]",
            "text/plain": [
              "<Figure size 432x288 with 1 Axes>"
            ]
          },
          "metadata": {
            "tags": []
          }
        }
      ]
    },
    {
      "cell_type": "markdown",
      "metadata": {
        "id": "Xxk2xkE1vO-m"
      },
      "source": [
        "**Box Plot**"
      ]
    },
    {
      "cell_type": "code",
      "metadata": {
        "id": "01eO02hAvRlU"
      },
      "source": [
        "sns.boxplot(x='day', y='total_bill', data=tips_df, hue='sex')\n",
        "# plt.legend(loc=0)"
      ],
      "execution_count": null,
      "outputs": []
    },
    {
      "cell_type": "markdown",
      "metadata": {
        "id": "uE8qSWvt1Se0"
      },
      "source": [
        "**Violin Plot**"
      ]
    },
    {
      "cell_type": "code",
      "metadata": {
        "id": "Cg1lQOkm1Vaz"
      },
      "source": [
        "# sns.violinplot(x='day', y='total_bill', data=tips_df, hue='sex') #kde estimation kore\n",
        "\n",
        "sns.violinplot(x='day', y='total_bill', data=tips_df, hue='sex', split=True) #nijeder moddhe compare kore \n",
        "\n"
      ],
      "execution_count": null,
      "outputs": []
    },
    {
      "cell_type": "markdown",
      "metadata": {
        "id": "wVq9VU3Q2AlY"
      },
      "source": [
        "**Strip Plot**"
      ]
    },
    {
      "cell_type": "code",
      "metadata": {
        "id": "E8ZGIFM72CYW"
      },
      "source": [
        "plt.figure(figsize=(8,5))\n",
        "\n",
        "# sns.stripplot(x='day', y='total_bill', data=tips_df)\n",
        "# sns.stripplot(x='day', y='total_bill', data=tips_df, jitter=True) #spread out hobe\n",
        "# sns.stripplot(x='day', y='total_bill', data=tips_df, jitter=True, hue='sex') #category wise divide hobe\n",
        "sns.stripplot(x='day', y='total_bill', data=tips_df, jitter=True, hue='sex', dodge=True) #separate kore dibe category gula"
      ],
      "execution_count": null,
      "outputs": []
    },
    {
      "cell_type": "markdown",
      "metadata": {
        "id": "jWhNRqva3L3_"
      },
      "source": [
        "**Swarm Plot**"
      ]
    },
    {
      "cell_type": "code",
      "metadata": {
        "id": "AOnM2Wnf3Qcm"
      },
      "source": [
        "sns.swarmplot(x='day', y='total_bill', data=tips_df)"
      ],
      "execution_count": null,
      "outputs": []
    },
    {
      "cell_type": "code",
      "metadata": {
        "id": "N6IZxdCC3kjE"
      },
      "source": [
        "sns.violinplot(x='day', y='total_bill', data=tips_df)\n",
        "sns.swarmplot(x='day', y='total_bill', data=tips_df, color='white') # Any 2 plots can be joined"
      ],
      "execution_count": null,
      "outputs": []
    },
    {
      "cell_type": "markdown",
      "metadata": {
        "id": "o0pN2fY739Kn"
      },
      "source": [
        "**Palettes**\n",
        "\n",
        "> Used to give good look to plots\n",
        "\n",
        "> For chnaging color: https://matplotlib.org/stable/tutorials/colors/colormaps.html\n",
        "\n",
        "\n"
      ]
    },
    {
      "cell_type": "code",
      "metadata": {
        "id": "AFRWmUee4CAW"
      },
      "source": [
        " plt.figure(figsize=(8,5))\n",
        "\n",
        " sns.set_style('white')\n",
        "#  sns.stripplot(x='day', y='total_bill', data=tips_df, hue='sex')\n",
        " sns.stripplot(x='day', y='total_bill', data=tips_df, hue='sex', palette='afmhot')\n",
        "\n",
        " plt.legend(loc=0) #Top left corner e legend jabe\n",
        " # loc--> upper right:1, upper left :2, lower left:3, lower right:4\n",
        " #https://matplotlib.org/stable/api/_as_gen/matplotlib.pyplot.legend.html\n"
      ],
      "execution_count": null,
      "outputs": []
    },
    {
      "cell_type": "markdown",
      "metadata": {
        "id": "UkqzSc3YoD6O"
      },
      "source": [
        "#Matrix Plot"
      ]
    },
    {
      "cell_type": "markdown",
      "metadata": {
        "id": "I1zn2OrBoGBD"
      },
      "source": [
        "**Heatmaps**"
      ]
    },
    {
      "cell_type": "code",
      "metadata": {
        "id": "ABlA2PlMoINB"
      },
      "source": [
        "plt.figure(figsize=(8,6))\n",
        "sns.set_context('paper', font_scale=1.4)\n",
        "\n",
        "#WAY - 01 to create a matrix\n",
        "crash_mx = crash_df.corr() #how much correlate a feature \n",
        "\n",
        "sns.heatmap(crash_mx, annot=True, cmap='Blues')\n"
      ],
      "execution_count": null,
      "outputs": []
    },
    {
      "cell_type": "code",
      "metadata": {
        "id": "f3CWqcQ0pBzE"
      },
      "source": [
        "#WAY - 02 to create a matrix\n",
        "\n",
        "flights = sns.load_dataset('flights')\n",
        "flights = flights.pivot_table(index='month', columns='year', values='passengers')\n",
        "flights\n",
        "sns.heatmap(flights, cmap='Blues', linecolor='white', linewidth=1)\n"
      ],
      "execution_count": null,
      "outputs": []
    },
    {
      "cell_type": "markdown",
      "metadata": {
        "id": "4YQkBOneqR_B"
      },
      "source": [
        "**Cluster Map**\n",
        "\n",
        "> It basically do clusters within the heatmap\n",
        "\n"
      ]
    },
    {
      "cell_type": "code",
      "metadata": {
        "id": "WLE7Jsi3qZAF"
      },
      "source": [
        "# iris = sns.load_dataset('iris')\n",
        "\n",
        "# species = iris.pop('species') #based on species it will cluster\n",
        "# sns.clustermap(iris)\n",
        "\n",
        "sns.clustermap(flights, cmap='Blues', standard_scale=1)"
      ],
      "execution_count": null,
      "outputs": []
    },
    {
      "cell_type": "markdown",
      "metadata": {
        "id": "ErP_V5H2ruTi"
      },
      "source": [
        "**PairGrid**"
      ]
    },
    {
      "cell_type": "code",
      "metadata": {
        "id": "8IT9K2LTrw_J"
      },
      "source": [
        "iris = sns.load_dataset('iris')\n",
        "# iris_g = sns.PairGrid(iris, hue='species')\n",
        "# iris_g.map(plt.scatter)\n",
        "# iris_g.map_diag(plt.hist)\n",
        "# # iris_g.map_offdiag(plt.scatter)\n",
        "# iris_g.map_upper(plt.scatter)\n",
        "# iris_g.map_lower(sns.kdeplot)\n",
        "iris_g = sns.PairGrid(iris, hue='species',               #Customs grid\n",
        "                      x_vars=[\"sepal_length\", \"sepal_width\"],\n",
        "                      y_vars=[\"petal_length\", \"petal_width\"]\n",
        "                      )\n",
        "iris_g.map(plt.scatter)\n",
        "iris_g.add_legend()"
      ],
      "execution_count": null,
      "outputs": []
    },
    {
      "cell_type": "markdown",
      "metadata": {
        "id": "MkyjzCkMv7u6"
      },
      "source": [
        "**Facet grid**"
      ]
    },
    {
      "cell_type": "code",
      "metadata": {
        "id": "zdiei2Dov_A7"
      },
      "source": [
        "import numpy as np\n",
        "import pandas as pd\n",
        "import matplotlib.pyplot as plt\n",
        "import seaborn as sns\n",
        "\n",
        "tips_df = sns.load_dataset('tips')\n",
        "# tips_df = sns.FacetGrid(tips_df, col='time', row='smoker')\n",
        "# tips_df.map(plt.hist, 'total_bill', bins=8)\n",
        "\n",
        "# tips_df = sns.FacetGrid(tips_df, col='time', hue='smoker', height=4, aspect=1.3, col_order=['Dinner', 'Lunch'])\n",
        "# tips_df.map(plt.scatter, 'total_bill', 'tip')\n",
        "\n",
        "# kws = dict(s=50, linewidth=.5, edgecolor='w')\n",
        "# tips_df = sns.FacetGrid(tips_df, col='sex', hue='smoker', height=4, hue_order=['Yes', 'No'], hue_kws=dict(marker=['^', 'v']))\n",
        "# tips_df.map(plt.scatter, 'total_bill', 'tip', **kws)\n",
        "\n",
        "att_df = sns.load_dataset('attention')\n",
        "att_df = sns.FacetGrid(att_df, col='subject', col_wrap=5, height=1.5)\n",
        "att_df.map(plt.plot, 'solutions', 'score', marker='.')\n",
        "\n",
        "\n"
      ],
      "execution_count": null,
      "outputs": []
    },
    {
      "cell_type": "markdown",
      "metadata": {
        "id": "UuVdQ7bB19A2"
      },
      "source": [
        "**Regression Plot**"
      ]
    },
    {
      "cell_type": "code",
      "metadata": {
        "colab": {
          "base_uri": "https://localhost:8080/",
          "height": 205
        },
        "id": "kHGEpqnQ1_N0",
        "outputId": "77b3bbfc-0976-4d56-f167-f2130652dd53"
      },
      "source": [
        "tips_df.head()"
      ],
      "execution_count": 13,
      "outputs": [
        {
          "output_type": "execute_result",
          "data": {
            "text/html": [
              "<div>\n",
              "<style scoped>\n",
              "    .dataframe tbody tr th:only-of-type {\n",
              "        vertical-align: middle;\n",
              "    }\n",
              "\n",
              "    .dataframe tbody tr th {\n",
              "        vertical-align: top;\n",
              "    }\n",
              "\n",
              "    .dataframe thead th {\n",
              "        text-align: right;\n",
              "    }\n",
              "</style>\n",
              "<table border=\"1\" class=\"dataframe\">\n",
              "  <thead>\n",
              "    <tr style=\"text-align: right;\">\n",
              "      <th></th>\n",
              "      <th>total_bill</th>\n",
              "      <th>tip</th>\n",
              "      <th>sex</th>\n",
              "      <th>smoker</th>\n",
              "      <th>day</th>\n",
              "      <th>time</th>\n",
              "      <th>size</th>\n",
              "    </tr>\n",
              "  </thead>\n",
              "  <tbody>\n",
              "    <tr>\n",
              "      <th>0</th>\n",
              "      <td>16.99</td>\n",
              "      <td>1.01</td>\n",
              "      <td>Female</td>\n",
              "      <td>No</td>\n",
              "      <td>Sun</td>\n",
              "      <td>Dinner</td>\n",
              "      <td>2</td>\n",
              "    </tr>\n",
              "    <tr>\n",
              "      <th>1</th>\n",
              "      <td>10.34</td>\n",
              "      <td>1.66</td>\n",
              "      <td>Male</td>\n",
              "      <td>No</td>\n",
              "      <td>Sun</td>\n",
              "      <td>Dinner</td>\n",
              "      <td>3</td>\n",
              "    </tr>\n",
              "    <tr>\n",
              "      <th>2</th>\n",
              "      <td>21.01</td>\n",
              "      <td>3.50</td>\n",
              "      <td>Male</td>\n",
              "      <td>No</td>\n",
              "      <td>Sun</td>\n",
              "      <td>Dinner</td>\n",
              "      <td>3</td>\n",
              "    </tr>\n",
              "    <tr>\n",
              "      <th>3</th>\n",
              "      <td>23.68</td>\n",
              "      <td>3.31</td>\n",
              "      <td>Male</td>\n",
              "      <td>No</td>\n",
              "      <td>Sun</td>\n",
              "      <td>Dinner</td>\n",
              "      <td>2</td>\n",
              "    </tr>\n",
              "    <tr>\n",
              "      <th>4</th>\n",
              "      <td>24.59</td>\n",
              "      <td>3.61</td>\n",
              "      <td>Female</td>\n",
              "      <td>No</td>\n",
              "      <td>Sun</td>\n",
              "      <td>Dinner</td>\n",
              "      <td>4</td>\n",
              "    </tr>\n",
              "  </tbody>\n",
              "</table>\n",
              "</div>"
            ],
            "text/plain": [
              "   total_bill   tip     sex smoker  day    time  size\n",
              "0       16.99  1.01  Female     No  Sun  Dinner     2\n",
              "1       10.34  1.66    Male     No  Sun  Dinner     3\n",
              "2       21.01  3.50    Male     No  Sun  Dinner     3\n",
              "3       23.68  3.31    Male     No  Sun  Dinner     2\n",
              "4       24.59  3.61  Female     No  Sun  Dinner     4"
            ]
          },
          "metadata": {
            "tags": []
          },
          "execution_count": 13
        }
      ]
    },
    {
      "cell_type": "code",
      "metadata": {
        "id": "0h63eeyJ2Fic"
      },
      "source": [
        "plt.figure(figsize=(8,6))\n",
        "sns.set_context('paper', font_scale=1.4)\n",
        "# sns.lmplot(x='total_bill', y='tip', hue='sex', data=tips_df)\n",
        "# sns.lmplot(x='total_bill', y='tip', hue='sex', data=tips_df, markers=['o', '^'])\n",
        "sns.lmplot(x='total_bill', y='tip', hue='sex', data=tips_df, markers=['o', '^'],scatter_kws={'s' : 100,'linewidth' : 0.5, 'edgecolor':'w'} )\n",
        "\n"
      ],
      "execution_count": null,
      "outputs": []
    },
    {
      "cell_type": "code",
      "metadata": {
        "id": "hjUADeMn31g1"
      },
      "source": [
        "sns.lmplot(x='total_bill', y='tip', col='sex', row='time', data=tips_df)"
      ],
      "execution_count": null,
      "outputs": []
    }
  ]
}