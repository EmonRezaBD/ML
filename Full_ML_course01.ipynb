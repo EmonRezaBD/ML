{
  "nbformat": 4,
  "nbformat_minor": 0,
  "metadata": {
    "colab": {
      "name": "Full_ML_course01.ipynb",
      "provenance": []
    },
    "kernelspec": {
      "name": "python3",
      "display_name": "Python 3"
    },
    "language_info": {
      "name": "python"
    }
  },
  "cells": [
    {
      "cell_type": "markdown",
      "metadata": {
        "id": "TCfiTtou9ShO"
      },
      "source": [
        "Data: https://data.dhsgis.wi.gov/datasets/covid-19-historical-data-by-county-1/explore"
      ]
    },
    {
      "cell_type": "code",
      "metadata": {
        "id": "sjrcJ7Dq-FzD"
      },
      "source": [
        "%matplotlib inline\n",
        "import pandas as pd\n",
        "import numpy as np\n",
        "import matplotlib.pyplot as plt\n"
      ],
      "execution_count": 2,
      "outputs": []
    },
    {
      "cell_type": "code",
      "metadata": {
        "id": "xu064Xxy_6gg"
      },
      "source": [
        "df = pd.read_csv(\"COVID-19_Historical_Data_by_County.csv\")\n",
        "df.head()\n",
        "# print(df.columns)\n",
        "df = df[[ \"NAME\", \"DATE\",\"POS_7DAYAVG\", \"DTH_NEW\" ]]\n",
        "df = df.dropna()\n",
        "# print(df.POS_7DAYAVG)\n",
        "\n",
        "#Count how many NAN values in the data frame?\n",
        "\n",
        "df[\"DATE\"] = pd.to_datetime(df[\"DATE\"]).dt.date \n",
        "df = df.replace(-999,0)\n",
        "df\n"
      ],
      "execution_count": null,
      "outputs": []
    },
    {
      "cell_type": "code",
      "metadata": {
        "id": "dE0WfZ7hX0Jh"
      },
      "source": [
        "deaths = df[[\"NAME\",\"DATE\",\"DTH_NEW\"]].copy()\n",
        "deaths[\"DATE\"] = deaths[\"DATE\"] - pd.Timedelta(days=14)\n",
        "deaths = deaths.set_index(deaths[\"NAME\"] + \"_\" + deaths[\"DATE\"].astype(str)) #name and date mile indexing korlam\n",
        "\n",
        "df = df.set_index(df[\"NAME\"] + \"_\" + df[\"DATE\"].astype(str))\n",
        "df\n"
      ],
      "execution_count": null,
      "outputs": []
    },
    {
      "cell_type": "code",
      "metadata": {
        "id": "uvlkocRFZhkn",
        "colab": {
          "base_uri": "https://localhost:8080/",
          "height": 204
        },
        "outputId": "667606b3-b968-456d-f1e0-a5f1465c0918"
      },
      "source": [
        "df[\"DTH_NEW_2WK\"] = deaths[\"DTH_NEW\"]\n",
        "df = df.dropna()\n",
        "df.head()\n"
      ],
      "execution_count": 5,
      "outputs": [
        {
          "output_type": "execute_result",
          "data": {
            "text/html": [
              "<div>\n",
              "<style scoped>\n",
              "    .dataframe tbody tr th:only-of-type {\n",
              "        vertical-align: middle;\n",
              "    }\n",
              "\n",
              "    .dataframe tbody tr th {\n",
              "        vertical-align: top;\n",
              "    }\n",
              "\n",
              "    .dataframe thead th {\n",
              "        text-align: right;\n",
              "    }\n",
              "</style>\n",
              "<table border=\"1\" class=\"dataframe\">\n",
              "  <thead>\n",
              "    <tr style=\"text-align: right;\">\n",
              "      <th></th>\n",
              "      <th>NAME</th>\n",
              "      <th>DATE</th>\n",
              "      <th>POS_7DAYAVG</th>\n",
              "      <th>DTH_NEW</th>\n",
              "      <th>DTH_NEW_2WK</th>\n",
              "    </tr>\n",
              "  </thead>\n",
              "  <tbody>\n",
              "    <tr>\n",
              "      <th>Adams_2020-03-16</th>\n",
              "      <td>Adams</td>\n",
              "      <td>2020-03-16</td>\n",
              "      <td>0.0</td>\n",
              "      <td>0.0</td>\n",
              "      <td>0.0</td>\n",
              "    </tr>\n",
              "    <tr>\n",
              "      <th>Ashland_2020-03-16</th>\n",
              "      <td>Ashland</td>\n",
              "      <td>2020-03-16</td>\n",
              "      <td>0.0</td>\n",
              "      <td>0.0</td>\n",
              "      <td>0.0</td>\n",
              "    </tr>\n",
              "    <tr>\n",
              "      <th>Barron_2020-03-16</th>\n",
              "      <td>Barron</td>\n",
              "      <td>2020-03-16</td>\n",
              "      <td>0.0</td>\n",
              "      <td>0.0</td>\n",
              "      <td>0.0</td>\n",
              "    </tr>\n",
              "    <tr>\n",
              "      <th>Bayfield_2020-03-16</th>\n",
              "      <td>Bayfield</td>\n",
              "      <td>2020-03-16</td>\n",
              "      <td>0.0</td>\n",
              "      <td>0.0</td>\n",
              "      <td>0.0</td>\n",
              "    </tr>\n",
              "    <tr>\n",
              "      <th>Brown_2020-03-16</th>\n",
              "      <td>Brown</td>\n",
              "      <td>2020-03-16</td>\n",
              "      <td>0.0</td>\n",
              "      <td>0.0</td>\n",
              "      <td>0.0</td>\n",
              "    </tr>\n",
              "  </tbody>\n",
              "</table>\n",
              "</div>"
            ],
            "text/plain": [
              "                         NAME        DATE  POS_7DAYAVG  DTH_NEW  DTH_NEW_2WK\n",
              "Adams_2020-03-16        Adams  2020-03-16          0.0      0.0          0.0\n",
              "Ashland_2020-03-16    Ashland  2020-03-16          0.0      0.0          0.0\n",
              "Barron_2020-03-16      Barron  2020-03-16          0.0      0.0          0.0\n",
              "Bayfield_2020-03-16  Bayfield  2020-03-16          0.0      0.0          0.0\n",
              "Brown_2020-03-16        Brown  2020-03-16          0.0      0.0          0.0"
            ]
          },
          "metadata": {
            "tags": []
          },
          "execution_count": 5
        }
      ]
    },
    {
      "cell_type": "code",
      "metadata": {
        "id": "hJ01SQDvZ8uH",
        "colab": {
          "base_uri": "https://localhost:8080/"
        },
        "outputId": "412474be-e2e3-47c6-e365-fc9e025d3bbb"
      },
      "source": [
        "df.to_csv(\"wi-covid.csv\", index=False)\n",
        "df.mean()"
      ],
      "execution_count": 6,
      "outputs": [
        {
          "output_type": "execute_result",
          "data": {
            "text/plain": [
              "POS_7DAYAVG    17.325702\n",
              "DTH_NEW         0.208192\n",
              "DTH_NEW_2WK     0.209517\n",
              "dtype: float64"
            ]
          },
          "metadata": {
            "tags": []
          },
          "execution_count": 6
        }
      ]
    },
    {
      "cell_type": "code",
      "metadata": {
        "id": "1fhtkVx_fMch"
      },
      "source": [
        "plt.rcParams[\"font.size\"] = 16"
      ],
      "execution_count": 7,
      "outputs": []
    },
    {
      "cell_type": "code",
      "metadata": {
        "colab": {
          "base_uri": "https://localhost:8080/"
        },
        "id": "2lBD26JQnrF4",
        "outputId": "c2d0fd5f-9c57-4c97-f841-65863f701f0d"
      },
      "source": [
        "df = pd.read_csv(\"wi-covid.csv\")\n",
        "df.tail()\n",
        "df.mean()"
      ],
      "execution_count": 8,
      "outputs": [
        {
          "output_type": "execute_result",
          "data": {
            "text/plain": [
              "POS_7DAYAVG    17.325702\n",
              "DTH_NEW         0.208192\n",
              "DTH_NEW_2WK     0.209517\n",
              "dtype: float64"
            ]
          },
          "metadata": {
            "tags": []
          },
          "execution_count": 8
        }
      ]
    },
    {
      "cell_type": "code",
      "metadata": {
        "id": "3tCTrbjBoZ6X"
      },
      "source": [
        "df.plot.scatter(x=\"DTH_NEW\", y=\"DTH_NEW_2WK\", alpha=0.2) #alpha use for transperancy"
      ],
      "execution_count": null,
      "outputs": []
    },
    {
      "cell_type": "code",
      "metadata": {
        "id": "ggVFRZJUo9ou"
      },
      "source": [
        "df.plot.scatter(x=\"POS_7DAYAVG\", y=\"DTH_NEW_2WK\")"
      ],
      "execution_count": null,
      "outputs": []
    },
    {
      "cell_type": "code",
      "metadata": {
        "id": "ZQgXKdkupOzy"
      },
      "source": [
        "from sklearn.linear_model import LinearRegression"
      ],
      "execution_count": 11,
      "outputs": []
    },
    {
      "cell_type": "code",
      "metadata": {
        "id": "qumSpF-Eponw"
      },
      "source": [
        "lr = LinearRegression() #methods: fit, score, predict"
      ],
      "execution_count": 12,
      "outputs": []
    },
    {
      "cell_type": "code",
      "metadata": {
        "id": "MSb97pnWqAu5"
      },
      "source": [
        "X = df[[\"DTH_NEW\"]] # x values (must be a DataFrame)"
      ],
      "execution_count": 13,
      "outputs": []
    },
    {
      "cell_type": "code",
      "metadata": {
        "id": "KG9JiGFZqkXG"
      },
      "source": [
        "y = df[\"DTH_NEW_2WK\"] # y values (can be a Series)"
      ],
      "execution_count": 14,
      "outputs": []
    },
    {
      "cell_type": "code",
      "metadata": {
        "colab": {
          "base_uri": "https://localhost:8080/"
        },
        "id": "sLOk9cDEp0WX",
        "outputId": "de01f200-bb78-4151-f0bc-37d3817fcc0f"
      },
      "source": [
        "lr.fit(X,y) #fit means training.\n",
        "lr.score(X,y) #how much the variance is explained by the model"
      ],
      "execution_count": 15,
      "outputs": [
        {
          "output_type": "execute_result",
          "data": {
            "text/plain": [
              "0.07372663434222382"
            ]
          },
          "metadata": {
            "tags": []
          },
          "execution_count": 15
        }
      ]
    },
    {
      "cell_type": "code",
      "metadata": {
        "colab": {
          "base_uri": "https://localhost:8080/"
        },
        "id": "Jdm89sygplR-",
        "outputId": "fefb1800-9ad5-4c98-902f-5e9ea6d8b48e"
      },
      "source": [
        "lr.fit(df[[\"POS_7DAYAVG\"]], df['DTH_NEW_2WK']) \n",
        "lr.score(df[[\"POS_7DAYAVG\"]], df['DTH_NEW_2WK'])"
      ],
      "execution_count": 16,
      "outputs": [
        {
          "output_type": "execute_result",
          "data": {
            "text/plain": [
              "0.15289496422699078"
            ]
          },
          "metadata": {
            "tags": []
          },
          "execution_count": 16
        }
      ]
    },
    {
      "cell_type": "code",
      "metadata": {
        "colab": {
          "base_uri": "https://localhost:8080/"
        },
        "id": "yid0dt59rPyg",
        "outputId": "e3f82f72-0571-49d2-af00-384f57e15916"
      },
      "source": [
        "lr.predict([[10]])"
      ],
      "execution_count": 17,
      "outputs": [
        {
          "output_type": "execute_result",
          "data": {
            "text/plain": [
              "array([0.14146398])"
            ]
          },
          "metadata": {
            "tags": []
          },
          "execution_count": 17
        }
      ]
    },
    {
      "cell_type": "code",
      "metadata": {
        "id": "AUwcQn3brk2A"
      },
      "source": [
        "fit_df = pd.DataFrame({\"DTH_NEW\" : range(0,500)})\n",
        "fit_df\n",
        "lr.predict(fit_df) #kichu random value generate kore ogula diye predict korlam\n",
        "\n",
        "fit_df[\"PREDICTED_DTH_NEW_2WK\"]=lr.predict(fit_df) #predicted val gula new col e insert korlam\n",
        "fit_df\n"
      ],
      "execution_count": null,
      "outputs": []
    },
    {
      "cell_type": "code",
      "metadata": {
        "id": "X9gosu0Us9Vj"
      },
      "source": [
        "fit_df.plot.line(x=\"DTH_NEW\", y=\"PREDICTED_DTH_NEW_2WK\", color=\"red\" )\n",
        "df.plot.scatter(x=\"DTH_NEW\", y=\"DTH_NEW_2WK\", color=\"red\")\n",
        "\n"
      ],
      "execution_count": null,
      "outputs": []
    },
    {
      "cell_type": "code",
      "metadata": {
        "id": "yz6wZBNAcOfv"
      },
      "source": [
        ""
      ],
      "execution_count": 19,
      "outputs": []
    },
    {
      "cell_type": "code",
      "metadata": {
        "id": "neTIPJf2t6go"
      },
      "source": [
        "ax = fit_df.plot.line(x=\"DTH_NEW\", y=\"PREDICTED_DTH_NEW_2WK\", color=\"red\" )\n",
        "df.plot.scatter(x=\"DTH_NEW\", y=\"DTH_NEW_2WK\", color=\"blue\", ax=ax,alpha=0.2)"
      ],
      "execution_count": null,
      "outputs": []
    },
    {
      "cell_type": "code",
      "metadata": {
        "colab": {
          "base_uri": "https://localhost:8080/"
        },
        "id": "n9Fp0T9quUWQ",
        "outputId": "3b50e914-2c01-4f63-e9d6-f9f624c7dfab"
      },
      "source": [
        "df[\"DTH_NEW_2WK\"].var() #Variance . How much differ form the average value."
      ],
      "execution_count": 21,
      "outputs": [
        {
          "output_type": "execute_result",
          "data": {
            "text/plain": [
              "1.360496557381923"
            ]
          },
          "metadata": {
            "tags": []
          },
          "execution_count": 21
        }
      ]
    },
    {
      "cell_type": "code",
      "metadata": {
        "id": "vCn4YmeIraUe"
      },
      "source": [
        "from sklearn.model_selection import train_test_split\n",
        "train_df, test_df = train_test_split(df, test_size=0.1)"
      ],
      "execution_count": 22,
      "outputs": []
    },
    {
      "cell_type": "code",
      "metadata": {
        "id": "f0hEFBvFrvjl"
      },
      "source": [
        "train_df"
      ],
      "execution_count": null,
      "outputs": []
    },
    {
      "cell_type": "code",
      "metadata": {
        "id": "0da5t6TJr-Tr"
      },
      "source": [
        "test_df"
      ],
      "execution_count": null,
      "outputs": []
    },
    {
      "cell_type": "code",
      "metadata": {
        "id": "VRtXKtbrugII"
      },
      "source": [
        "lr = LinearRegression()\n",
        "# lr.fit(train_df[LIST OF COLUMNS], train_df[Y_COLUMN])\n",
        "# lr.score(test_df[LIST OF COLUMNS], test_df[Y_COLUMN])\n",
        "\n",
        "lr.fit(train_df[[\"POS_7DAYAVG\"]], train_df[\"DTH_NEW_2WK\"])\n",
        "lr.score(test_df[[\"POS_7DAYAVG\"]], test_df[\"DTH_NEW_2WK\"])"
      ],
      "execution_count": null,
      "outputs": []
    },
    {
      "cell_type": "code",
      "metadata": {
        "id": "ZeSzUQuIwKq4"
      },
      "source": [
        "lr.score(train_df[[\"POS_7DAYAVG\"]], train_df[\"DTH_NEW_2WK\"])\n"
      ],
      "execution_count": null,
      "outputs": []
    },
    {
      "cell_type": "code",
      "metadata": {
        "id": "xyB_C1hLxC3z"
      },
      "source": [
        "train_df[\"DTH_NEW_2WK\"].var(), test_df[\"DTH_NEW_2WK\"].var()\n",
        "\n",
        "#How variance is related to score??"
      ],
      "execution_count": null,
      "outputs": []
    },
    {
      "cell_type": "markdown",
      "metadata": {
        "id": "bab85ABuxssv"
      },
      "source": [
        "**Error Functions**"
      ]
    },
    {
      "cell_type": "code",
      "metadata": {
        "id": "ua_cHAdHxwns"
      },
      "source": [
        "from sklearn.metrics import r2_score, mean_absolute_error\n",
        "#r2_score , MAE these are metrics\n",
        "# METRICS(TRUE values, Predicted values)\n",
        "\n",
        "r2_score(test_df[\"DTH_NEW_2WK\"], lr.predict(test_df[[\"POS_7DAYAVG\"]])) #True value holo y er test. predict value holo x er test. \n"
      ],
      "execution_count": null,
      "outputs": []
    },
    {
      "cell_type": "markdown",
      "metadata": {
        "id": "N3NvXpARHw22"
      },
      "source": [
        "**sklearn Pipleline**"
      ]
    },
    {
      "cell_type": "code",
      "metadata": {
        "colab": {
          "base_uri": "https://localhost:8080/",
          "height": 204
        },
        "id": "xQh3Sl02I5kD",
        "outputId": "1c0842c2-25f3-4072-b4bc-beb2e60b1f7b"
      },
      "source": [
        "train_df, test_df = train_test_split(df)\n",
        "len(train_df), len(test_df)\n",
        "df.tail()"
      ],
      "execution_count": 32,
      "outputs": [
        {
          "output_type": "execute_result",
          "data": {
            "text/html": [
              "<div>\n",
              "<style scoped>\n",
              "    .dataframe tbody tr th:only-of-type {\n",
              "        vertical-align: middle;\n",
              "    }\n",
              "\n",
              "    .dataframe tbody tr th {\n",
              "        vertical-align: top;\n",
              "    }\n",
              "\n",
              "    .dataframe thead th {\n",
              "        text-align: right;\n",
              "    }\n",
              "</style>\n",
              "<table border=\"1\" class=\"dataframe\">\n",
              "  <thead>\n",
              "    <tr style=\"text-align: right;\">\n",
              "      <th></th>\n",
              "      <th>NAME</th>\n",
              "      <th>DATE</th>\n",
              "      <th>POS_7DAYAVG</th>\n",
              "      <th>DTH_NEW</th>\n",
              "      <th>DTH_NEW_2WK</th>\n",
              "    </tr>\n",
              "  </thead>\n",
              "  <tbody>\n",
              "    <tr>\n",
              "      <th>35491</th>\n",
              "      <td>Richland</td>\n",
              "      <td>2021-07-21</td>\n",
              "      <td>0.43</td>\n",
              "      <td>0.0</td>\n",
              "      <td>0.0</td>\n",
              "    </tr>\n",
              "    <tr>\n",
              "      <th>35492</th>\n",
              "      <td>Eau Claire</td>\n",
              "      <td>2021-07-21</td>\n",
              "      <td>4.14</td>\n",
              "      <td>0.0</td>\n",
              "      <td>0.0</td>\n",
              "    </tr>\n",
              "    <tr>\n",
              "      <th>35493</th>\n",
              "      <td>Florence</td>\n",
              "      <td>2021-07-21</td>\n",
              "      <td>0.14</td>\n",
              "      <td>0.0</td>\n",
              "      <td>0.0</td>\n",
              "    </tr>\n",
              "    <tr>\n",
              "      <th>35494</th>\n",
              "      <td>Clark</td>\n",
              "      <td>2021-07-21</td>\n",
              "      <td>2.43</td>\n",
              "      <td>0.0</td>\n",
              "      <td>0.0</td>\n",
              "    </tr>\n",
              "    <tr>\n",
              "      <th>35495</th>\n",
              "      <td>Fond du Lac</td>\n",
              "      <td>2021-07-21</td>\n",
              "      <td>2.71</td>\n",
              "      <td>0.0</td>\n",
              "      <td>0.0</td>\n",
              "    </tr>\n",
              "  </tbody>\n",
              "</table>\n",
              "</div>"
            ],
            "text/plain": [
              "              NAME        DATE  POS_7DAYAVG  DTH_NEW  DTH_NEW_2WK\n",
              "35491     Richland  2021-07-21         0.43      0.0          0.0\n",
              "35492   Eau Claire  2021-07-21         4.14      0.0          0.0\n",
              "35493     Florence  2021-07-21         0.14      0.0          0.0\n",
              "35494        Clark  2021-07-21         2.43      0.0          0.0\n",
              "35495  Fond du Lac  2021-07-21         2.71      0.0          0.0"
            ]
          },
          "metadata": {
            "tags": []
          },
          "execution_count": 32
        }
      ]
    },
    {
      "cell_type": "code",
      "metadata": {
        "id": "oxPkW53Y1XPF",
        "colab": {
          "base_uri": "https://localhost:8080/"
        },
        "outputId": "02a3e035-cee1-4a45-dccf-b10257c282b2"
      },
      "source": [
        "from sklearn.model_selection import cross_val_score \n",
        "\n",
        "m1 = LinearRegression()\n",
        "# m1.fit(train_df[LIST OF FEATURES], train_df[YCOL])\n",
        "m1.fit(train_df[[\"DTH_NEW\"]], train_df[\"POS_7DAYAVG\"])\n",
        "m1.predict(test_df[[\"DTH_NEW\"]])\n",
        "cross_val_score(m1,train_df[[\"DTH_NEW\"]],train_df[\"POS_7DAYAVG\"] )"
      ],
      "execution_count": 39,
      "outputs": [
        {
          "output_type": "execute_result",
          "data": {
            "text/plain": [
              "array([0.19034537, 0.1811929 , 0.07129429, 0.15571918, 0.18344343])"
            ]
          },
          "metadata": {
            "tags": []
          },
          "execution_count": 39
        }
      ]
    },
    {
      "cell_type": "code",
      "metadata": {
        "colab": {
          "base_uri": "https://localhost:8080/"
        },
        "id": "UKsXhw5lLLJx",
        "outputId": "17aad2fb-7a14-489a-fda3-2d5c095e25f2"
      },
      "source": [
        "m1 = LinearRegression()\n",
        "# m1.fit(train_df[LIST OF FEATURES], train_df[YCOL])\n",
        "m1.fit(train_df[[\"DTH_NEW\", \"DTH_NEW_2WK\" ]], train_df[\"POS_7DAYAVG\"]) #******** Multiple X values.\n",
        "m1.predict(test_df[[\"DTH_NEW\", \"DTH_NEW_2WK\" ]])\n",
        "score = cross_val_score(m1,train_df[[\"DTH_NEW\", \"DTH_NEW_2WK\" ]],train_df[\"POS_7DAYAVG\"] )\n",
        "score.mean()"
      ],
      "execution_count": 66,
      "outputs": [
        {
          "output_type": "execute_result",
          "data": {
            "text/plain": [
              "0.21509639942530692"
            ]
          },
          "metadata": {
            "tags": []
          },
          "execution_count": 66
        }
      ]
    },
    {
      "cell_type": "code",
      "metadata": {
        "id": "o0CxdLJOLs6g"
      },
      "source": [
        "demo = train_df[[\"DTH_NEW\"]]+2\n",
        "demo[\"DTH_NEW_squared\"] = demo[\"DTH_NEW\"]**2\n",
        "demo[\"DTH_NEW_cubic\"] = demo[\"DTH_NEW\"]**3\n",
        "demo"
      ],
      "execution_count": null,
      "outputs": []
    },
    {
      "cell_type": "code",
      "metadata": {
        "id": "OA0t2adINI1Y"
      },
      "source": [
        "from sklearn.pipeline import Pipeline\n",
        "from sklearn.preprocessing import PolynomialFeatures, OneHotEncoder\n",
        "from sklearn.compose import make_column_transformer\n",
        "\n",
        "poly = PolynomialFeatures(degree=4, include_bias=False)\n",
        "data = poly.fit_transform(train_df[[\"DTH_NEW\"]])\n",
        "pd.DataFrame(data, columns=poly.get_feature_names([\"DTH_NEW\"])) #****** Numpy array to pandas dataframe\n",
        "\n"
      ],
      "execution_count": null,
      "outputs": []
    },
    {
      "cell_type": "code",
      "metadata": {
        "colab": {
          "base_uri": "https://localhost:8080/"
        },
        "id": "lNExuMyLO1PS",
        "outputId": "278b624a-c9d2-4ac0-b9a9-bb14feadde80"
      },
      "source": [
        "# m2 = Pipeline(\n",
        "#     [\n",
        "    \n",
        "#     1 or more transformer\n",
        "#      estimator\n",
        "#     ]\n",
        "# )\n",
        "\n",
        "# This process will improve the model score\n",
        "m2 = Pipeline([\n",
        "               (\"poly\", PolynomialFeatures(degree=2, include_bias=False)),\n",
        "               (\"lr\", LinearRegression())\n",
        "])\n",
        "m2.fit(train_df[[\"DTH_NEW\", \"DTH_NEW_2WK\" ]], train_df[\"POS_7DAYAVG\"]) #******** Multiple X values.\n",
        "score = cross_val_score(m2,train_df[[\"DTH_NEW\", \"DTH_NEW_2WK\" ]],train_df[\"POS_7DAYAVG\"], cv=10 )\n",
        "score.mean()"
      ],
      "execution_count": 68,
      "outputs": [
        {
          "output_type": "execute_result",
          "data": {
            "text/plain": [
              "-0.13430824517461523"
            ]
          },
          "metadata": {
            "tags": []
          },
          "execution_count": 68
        }
      ]
    },
    {
      "cell_type": "markdown",
      "metadata": {
        "id": "QmSBiuA4Uejp"
      },
      "source": [
        "**Logistic Regression**\n",
        "(Iris dataset)"
      ]
    },
    {
      "cell_type": "code",
      "metadata": {
        "id": "XIJYBoP4UlmR"
      },
      "source": [
        "df = pd.read_csv(\"Iris.csv\")\n",
        "df.insert(2, \"const\", 1)\n",
        "df.tail()"
      ],
      "execution_count": null,
      "outputs": []
    },
    {
      "cell_type": "code",
      "metadata": {
        "colab": {
          "base_uri": "https://localhost:8080/",
          "height": 359
        },
        "id": "TiGXXfqXeaos",
        "outputId": "8eb964e2-9a67-487a-cdb9-e5b5edd8a3e5"
      },
      "source": [
        "xcols = [\"SepalLengthCm\", \"SepalWidthCm\", \"const\"]\n",
        "train, test = train_test_split(df, test_size=10, random_state=5)\n",
        "test = test.copy() #Slice error dekhabe na\n",
        "\n",
        "reg = LinearRegression()\n",
        "reg.fit(train[xcols], train[\"SepalWidthCm\"])\n",
        "test[\"prediction\"] = reg.predict(test[xcols])\n",
        "test\n",
        "\n"
      ],
      "execution_count": 106,
      "outputs": [
        {
          "output_type": "execute_result",
          "data": {
            "text/html": [
              "<div>\n",
              "<style scoped>\n",
              "    .dataframe tbody tr th:only-of-type {\n",
              "        vertical-align: middle;\n",
              "    }\n",
              "\n",
              "    .dataframe tbody tr th {\n",
              "        vertical-align: top;\n",
              "    }\n",
              "\n",
              "    .dataframe thead th {\n",
              "        text-align: right;\n",
              "    }\n",
              "</style>\n",
              "<table border=\"1\" class=\"dataframe\">\n",
              "  <thead>\n",
              "    <tr style=\"text-align: right;\">\n",
              "      <th></th>\n",
              "      <th>Id</th>\n",
              "      <th>SepalLengthCm</th>\n",
              "      <th>const</th>\n",
              "      <th>SepalWidthCm</th>\n",
              "      <th>PetalLengthCm</th>\n",
              "      <th>PetalWidthCm</th>\n",
              "      <th>Species</th>\n",
              "      <th>prediction</th>\n",
              "    </tr>\n",
              "  </thead>\n",
              "  <tbody>\n",
              "    <tr>\n",
              "      <th>82</th>\n",
              "      <td>83</td>\n",
              "      <td>5.8</td>\n",
              "      <td>1</td>\n",
              "      <td>2.7</td>\n",
              "      <td>3.9</td>\n",
              "      <td>1.2</td>\n",
              "      <td>Iris-versicolor</td>\n",
              "      <td>2.7</td>\n",
              "    </tr>\n",
              "    <tr>\n",
              "      <th>134</th>\n",
              "      <td>135</td>\n",
              "      <td>6.1</td>\n",
              "      <td>1</td>\n",
              "      <td>2.6</td>\n",
              "      <td>5.6</td>\n",
              "      <td>1.4</td>\n",
              "      <td>Iris-virginica</td>\n",
              "      <td>2.6</td>\n",
              "    </tr>\n",
              "    <tr>\n",
              "      <th>114</th>\n",
              "      <td>115</td>\n",
              "      <td>5.8</td>\n",
              "      <td>1</td>\n",
              "      <td>2.8</td>\n",
              "      <td>5.1</td>\n",
              "      <td>2.4</td>\n",
              "      <td>Iris-virginica</td>\n",
              "      <td>2.8</td>\n",
              "    </tr>\n",
              "    <tr>\n",
              "      <th>42</th>\n",
              "      <td>43</td>\n",
              "      <td>4.4</td>\n",
              "      <td>1</td>\n",
              "      <td>3.2</td>\n",
              "      <td>1.3</td>\n",
              "      <td>0.2</td>\n",
              "      <td>Iris-setosa</td>\n",
              "      <td>3.2</td>\n",
              "    </tr>\n",
              "    <tr>\n",
              "      <th>109</th>\n",
              "      <td>110</td>\n",
              "      <td>7.2</td>\n",
              "      <td>1</td>\n",
              "      <td>3.6</td>\n",
              "      <td>6.1</td>\n",
              "      <td>2.5</td>\n",
              "      <td>Iris-virginica</td>\n",
              "      <td>3.6</td>\n",
              "    </tr>\n",
              "    <tr>\n",
              "      <th>57</th>\n",
              "      <td>58</td>\n",
              "      <td>4.9</td>\n",
              "      <td>1</td>\n",
              "      <td>2.4</td>\n",
              "      <td>3.3</td>\n",
              "      <td>1.0</td>\n",
              "      <td>Iris-versicolor</td>\n",
              "      <td>2.4</td>\n",
              "    </tr>\n",
              "    <tr>\n",
              "      <th>1</th>\n",
              "      <td>2</td>\n",
              "      <td>4.9</td>\n",
              "      <td>1</td>\n",
              "      <td>3.0</td>\n",
              "      <td>1.4</td>\n",
              "      <td>0.2</td>\n",
              "      <td>Iris-setosa</td>\n",
              "      <td>3.0</td>\n",
              "    </tr>\n",
              "    <tr>\n",
              "      <th>70</th>\n",
              "      <td>71</td>\n",
              "      <td>5.9</td>\n",
              "      <td>1</td>\n",
              "      <td>3.2</td>\n",
              "      <td>4.8</td>\n",
              "      <td>1.8</td>\n",
              "      <td>Iris-versicolor</td>\n",
              "      <td>3.2</td>\n",
              "    </tr>\n",
              "    <tr>\n",
              "      <th>25</th>\n",
              "      <td>26</td>\n",
              "      <td>5.0</td>\n",
              "      <td>1</td>\n",
              "      <td>3.0</td>\n",
              "      <td>1.6</td>\n",
              "      <td>0.2</td>\n",
              "      <td>Iris-setosa</td>\n",
              "      <td>3.0</td>\n",
              "    </tr>\n",
              "    <tr>\n",
              "      <th>84</th>\n",
              "      <td>85</td>\n",
              "      <td>5.4</td>\n",
              "      <td>1</td>\n",
              "      <td>3.0</td>\n",
              "      <td>4.5</td>\n",
              "      <td>1.5</td>\n",
              "      <td>Iris-versicolor</td>\n",
              "      <td>3.0</td>\n",
              "    </tr>\n",
              "  </tbody>\n",
              "</table>\n",
              "</div>"
            ],
            "text/plain": [
              "      Id  SepalLengthCm  const  ...  PetalWidthCm          Species  prediction\n",
              "82    83            5.8      1  ...           1.2  Iris-versicolor         2.7\n",
              "134  135            6.1      1  ...           1.4   Iris-virginica         2.6\n",
              "114  115            5.8      1  ...           2.4   Iris-virginica         2.8\n",
              "42    43            4.4      1  ...           0.2      Iris-setosa         3.2\n",
              "109  110            7.2      1  ...           2.5   Iris-virginica         3.6\n",
              "57    58            4.9      1  ...           1.0  Iris-versicolor         2.4\n",
              "1      2            4.9      1  ...           0.2      Iris-setosa         3.0\n",
              "70    71            5.9      1  ...           1.8  Iris-versicolor         3.2\n",
              "25    26            5.0      1  ...           0.2      Iris-setosa         3.0\n",
              "84    85            5.4      1  ...           1.5  Iris-versicolor         3.0\n",
              "\n",
              "[10 rows x 8 columns]"
            ]
          },
          "metadata": {
            "tags": []
          },
          "execution_count": 106
        }
      ]
    },
    {
      "cell_type": "code",
      "metadata": {
        "id": "jx0w0djNhYhS"
      },
      "source": [
        "\n",
        "reg = LinearRegression()\n",
        "reg.fit(train[xcols], train[\"SepalWidthCm\"])\n",
        "test[\"prediction\"] = reg.predict(test[xcols]) #***Very important. evabe onk gula col er opor depend kore amra j kono akta feature k predict krte parbo.\n",
        "\n",
        "# test[\"prob\"] = reg.predict_proba(test[xcols]) [:,1] #we can use it for logistic regression.\n",
        "test\n"
      ],
      "execution_count": null,
      "outputs": []
    },
    {
      "cell_type": "code",
      "metadata": {
        "colab": {
          "base_uri": "https://localhost:8080/",
          "height": 270
        },
        "id": "qZ3kB-U1jwN5",
        "outputId": "934f8a60-08b5-4d72-c087-c26c69fa4f99"
      },
      "source": [
        "#create arrays in form of contourf later\n",
        "sepw, sep1 = np.meshgrid(np.arange(0,10,0.1),np.arange(0,10,0.1))\n",
        "plt.contourf(sepw,sep2,sep2)\n",
        "cdf = pd.DataFrame({\n",
        "    'SepalLengthCm': sep1.reshape(-1),\n",
        "    'SepalWidthCm' : sepw.reshape(-1),\n",
        "    'const' :1\n",
        "})\n",
        "\n",
        "cdf[\"prediction\"] = reg.predict(cdf)\n"
      ],
      "execution_count": 105,
      "outputs": [
        {
          "output_type": "display_data",
          "data": {
            "image/png": "[encoded data removed]",
            "text/plain": [
              "<Figure size 432x288 with 1 Axes>"
            ]
          },
          "metadata": {
            "tags": [],
            "needs_background": "light"
          }
        }
      ]
    },
    {
      "cell_type": "code",
      "metadata": {
        "id": "1PvNecWIly_4"
      },
      "source": [
        "ax = plt.contourf(sepw, sep1, cdf[\"prediction\"].values.reshape(sepw.shape))\n",
        "\n",
        "#**Same graph er moddhei 2 ta scatter plot kora jay. "
      ],
      "execution_count": null,
      "outputs": []
    }
  ]
}