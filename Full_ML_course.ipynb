{
  "nbformat": 4,
  "nbformat_minor": 0,
  "metadata": {
    "colab": {
      "name": "Full ML course.ipynb",
      "provenance": []
    },
    "kernelspec": {
      "name": "python3",
      "display_name": "Python 3"
    },
    "language_info": {
      "name": "python"
    }
  },
  "cells": [
    {
      "cell_type": "markdown",
      "metadata": {
        "id": "TCfiTtou9ShO"
      },
      "source": [
        "Data: https://data.dhsgis.wi.gov/datasets/covid-19-historical-data-by-county-1/explore"
      ]
    },
    {
      "cell_type": "code",
      "metadata": {
        "id": "sjrcJ7Dq-FzD"
      },
      "source": [
        "%matplotlib inline\n",
        "import pandas as pd\n",
        "import numpy as np\n",
        "import matplotlib.pyplot as plt\n"
      ],
      "execution_count": null,
      "outputs": []
    },
    {
      "cell_type": "code",
      "metadata": {
        "id": "xu064Xxy_6gg"
      },
      "source": [
        "df = pd.read_csv(\"COVID-19_Historical_Data_by_County.csv\")\n",
        "df.head()\n",
        "# print(df.columns)\n",
        "df = df[[ \"NAME\", \"DATE\",\"POS_7DAYAVG\", \"DTH_NEW\" ]]\n",
        "df = df.dropna()\n",
        "# print(df.POS_7DAYAVG)\n",
        "\n",
        "#Count how many NAN values in the data frame?\n",
        "\n",
        "df[\"DATE\"] = pd.to_datetime(df[\"DATE\"]).dt.date \n",
        "df = df.replace(-999,0)\n",
        "df\n"
      ],
      "execution_count": null,
      "outputs": []
    },
    {
      "cell_type": "code",
      "metadata": {
        "id": "dE0WfZ7hX0Jh"
      },
      "source": [
        "deaths = df[[\"NAME\",\"DATE\",\"DTH_NEW\"]].copy()\n",
        "deaths[\"DATE\"] = deaths[\"DATE\"] - pd.Timedelta(days=14)\n",
        "deaths = deaths.set_index(deaths[\"NAME\"] + \"_\" + deaths[\"DATE\"].astype(str)) #name and date mile indexing korlam\n",
        "\n",
        "df = df.set_index(df[\"NAME\"] + \"_\" + df[\"DATE\"].astype(str))\n",
        "df\n"
      ],
      "execution_count": null,
      "outputs": []
    },
    {
      "cell_type": "code",
      "metadata": {
        "id": "uvlkocRFZhkn"
      },
      "source": [
        "df[\"DTH_NEW_2WK\"] = deaths[\"DTH_NEW\"]\n",
        "df = df.dropna()\n",
        "df.head()\n"
      ],
      "execution_count": null,
      "outputs": []
    },
    {
      "cell_type": "code",
      "metadata": {
        "id": "hJ01SQDvZ8uH"
      },
      "source": [
        "df.to_csv(\"wi-covid.csv\", index=False)\n",
        "df.mean()"
      ],
      "execution_count": null,
      "outputs": []
    },
    {
      "cell_type": "code",
      "metadata": {
        "id": "1fhtkVx_fMch"
      },
      "source": [
        "plt.rcParams[\"font.size\"] = 16"
      ],
      "execution_count": null,
      "outputs": []
    },
    {
      "cell_type": "code",
      "metadata": {
        "colab": {
          "base_uri": "https://localhost:8080/"
        },
        "id": "2lBD26JQnrF4",
        "outputId": "4b9c8f13-06e1-4e85-9e9e-e91fc5bd39f1"
      },
      "source": [
        "df = pd.read_csv(\"wi-covid.csv\")\n",
        "df.tail()\n",
        "df.mean()"
      ],
      "execution_count": null,
      "outputs": [
        {
          "output_type": "execute_result",
          "data": {
            "text/plain": [
              "POS_7DAYAVG    17.325702\n",
              "DTH_NEW         0.208192\n",
              "DTH_NEW_2WK     0.209517\n",
              "dtype: float64"
            ]
          },
          "metadata": {
            "tags": []
          },
          "execution_count": 7
        }
      ]
    },
    {
      "cell_type": "code",
      "metadata": {
        "id": "3tCTrbjBoZ6X"
      },
      "source": [
        "df.plot.scatter(x=\"DTH_NEW\", y=\"DTH_NEW_2WK\", alpha=0.2) #alpha use for transperancy"
      ],
      "execution_count": null,
      "outputs": []
    },
    {
      "cell_type": "code",
      "metadata": {
        "id": "ggVFRZJUo9ou"
      },
      "source": [
        "df.plot.scatter(x=\"POS_7DAYAVG\", y=\"DTH_NEW_2WK\")"
      ],
      "execution_count": null,
      "outputs": []
    },
    {
      "cell_type": "code",
      "metadata": {
        "id": "ZQgXKdkupOzy"
      },
      "source": [
        "from sklearn.linear_model import LinearRegression"
      ],
      "execution_count": null,
      "outputs": []
    },
    {
      "cell_type": "code",
      "metadata": {
        "id": "qumSpF-Eponw"
      },
      "source": [
        "lr = LinearRegression() #methods: fit, score, predict"
      ],
      "execution_count": null,
      "outputs": []
    },
    {
      "cell_type": "code",
      "metadata": {
        "id": "MSb97pnWqAu5"
      },
      "source": [
        "X = df[[\"DTH_NEW\"]] # x values (must be a DataFrame)"
      ],
      "execution_count": null,
      "outputs": []
    },
    {
      "cell_type": "code",
      "metadata": {
        "id": "KG9JiGFZqkXG"
      },
      "source": [
        "y = df[\"DTH_NEW_2WK\"] # y values (can be a Series)"
      ],
      "execution_count": null,
      "outputs": []
    },
    {
      "cell_type": "code",
      "metadata": {
        "colab": {
          "base_uri": "https://localhost:8080/"
        },
        "id": "sLOk9cDEp0WX",
        "outputId": "c38b8779-4830-4233-91f5-544c8decf80f"
      },
      "source": [
        "lr.fit(X,y) #fit means training.\n",
        "lr.score(X,y) #how much the variance is explained by the model"
      ],
      "execution_count": null,
      "outputs": [
        {
          "output_type": "execute_result",
          "data": {
            "text/plain": [
              "0.07372663434222382"
            ]
          },
          "metadata": {
            "tags": []
          },
          "execution_count": 20
        }
      ]
    },
    {
      "cell_type": "code",
      "metadata": {
        "colab": {
          "base_uri": "https://localhost:8080/"
        },
        "id": "Jdm89sygplR-",
        "outputId": "31903901-58a8-4c5c-8e0e-d92cae9ef2dd"
      },
      "source": [
        "lr.fit(df[[\"POS_7DAYAVG\"]], df['DTH_NEW_2WK']) \n",
        "lr.score(df[[\"POS_7DAYAVG\"]], df['DTH_NEW_2WK'])"
      ],
      "execution_count": null,
      "outputs": [
        {
          "output_type": "execute_result",
          "data": {
            "text/plain": [
              "0.15289496422699078"
            ]
          },
          "metadata": {
            "tags": []
          },
          "execution_count": 21
        }
      ]
    },
    {
      "cell_type": "code",
      "metadata": {
        "colab": {
          "base_uri": "https://localhost:8080/"
        },
        "id": "yid0dt59rPyg",
        "outputId": "b8d34d18-9ff3-4b23-a59a-c3649807b6e5"
      },
      "source": [
        "lr.predict([[10]])"
      ],
      "execution_count": null,
      "outputs": [
        {
          "output_type": "execute_result",
          "data": {
            "text/plain": [
              "array([3.27223915])"
            ]
          },
          "metadata": {
            "tags": []
          },
          "execution_count": 15
        }
      ]
    },
    {
      "cell_type": "code",
      "metadata": {
        "id": "AUwcQn3brk2A"
      },
      "source": [
        "fit_df = pd.DataFrame({\"DTH_NEW\" : range(0,500)})\n",
        "fit_df\n",
        "lr.predict(fit_df) #kichu random value generate kore ogula diye predict korlam\n",
        "\n",
        "fit_df[\"PREDICTED_DTH_NEW_2WK\"]=lr.predict(fit_df) #predicted val gula new col e insert korlam\n",
        "fit_df\n"
      ],
      "execution_count": null,
      "outputs": []
    },
    {
      "cell_type": "code",
      "metadata": {
        "id": "X9gosu0Us9Vj"
      },
      "source": [
        "fit_df.plot.line(x=\"DTH_NEW\", y=\"PREDICTED_DTH_NEW_2WK\", color=\"red\" )\n",
        "df.plot.scatter(x=\"DTH_NEW\", y=\"DTH_NEW_2WK\", color=\"red\")\n",
        "\n"
      ],
      "execution_count": null,
      "outputs": []
    },
    {
      "cell_type": "code",
      "metadata": {
        "id": "yz6wZBNAcOfv"
      },
      "source": [
        ""
      ],
      "execution_count": null,
      "outputs": []
    },
    {
      "cell_type": "code",
      "metadata": {
        "id": "neTIPJf2t6go"
      },
      "source": [
        "ax = fit_df.plot.line(x=\"DTH_NEW\", y=\"PREDICTED_DTH_NEW_2WK\", color=\"red\" )\n",
        "df.plot.scatter(x=\"DTH_NEW\", y=\"DTH_NEW_2WK\", color=\"blue\", ax=ax,alpha=0.2)"
      ],
      "execution_count": null,
      "outputs": []
    },
    {
      "cell_type": "code",
      "metadata": {
        "colab": {
          "base_uri": "https://localhost:8080/"
        },
        "id": "n9Fp0T9quUWQ",
        "outputId": "fc944da5-46d1-4760-80be-3a47b5312363"
      },
      "source": [
        "df[\"DTH_NEW_2WK\"].var() #Variance . How much differ form the average value."
      ],
      "execution_count": null,
      "outputs": [
        {
          "output_type": "execute_result",
          "data": {
            "text/plain": [
              "1.360496557381923"
            ]
          },
          "metadata": {
            "tags": []
          },
          "execution_count": 19
        }
      ]
    },
    {
      "cell_type": "code",
      "metadata": {
        "id": "vCn4YmeIraUe"
      },
      "source": [
        "from sklearn.model_selection import train_test_split\n",
        "train_df, test_df = train_test_split(df, test_size=0.1)"
      ],
      "execution_count": null,
      "outputs": []
    },
    {
      "cell_type": "code",
      "metadata": {
        "id": "f0hEFBvFrvjl"
      },
      "source": [
        "train_df"
      ],
      "execution_count": null,
      "outputs": []
    },
    {
      "cell_type": "code",
      "metadata": {
        "id": "0da5t6TJr-Tr"
      },
      "source": [
        "test_df"
      ],
      "execution_count": null,
      "outputs": []
    },
    {
      "cell_type": "code",
      "metadata": {
        "colab": {
          "base_uri": "https://localhost:8080/"
        },
        "id": "VRtXKtbrugII",
        "outputId": "2e9452de-8626-4372-fa43-1a098696fc91"
      },
      "source": [
        "lr = LinearRegression()\n",
        "# lr.fit(train_df[LIST OF COLUMNS], train_df[Y_COLUMN])\n",
        "# lr.score(test_df[LIST OF COLUMNS], test_df[Y_COLUMN])\n",
        "\n",
        "lr.fit(train_df[[\"POS_7DAYAVG\"]], train_df[\"DTH_NEW_2WK\"])\n",
        "lr.score(test_df[[\"POS_7DAYAVG\"]], test_df[\"DTH_NEW_2WK\"])"
      ],
      "execution_count": null,
      "outputs": [
        {
          "output_type": "execute_result",
          "data": {
            "text/plain": [
              "0.24791366751225297"
            ]
          },
          "metadata": {
            "tags": []
          },
          "execution_count": 45
        }
      ]
    },
    {
      "cell_type": "code",
      "metadata": {
        "colab": {
          "base_uri": "https://localhost:8080/"
        },
        "id": "ZeSzUQuIwKq4",
        "outputId": "72d41fed-9906-44e3-be5c-c5e447bb931e"
      },
      "source": [
        "lr.score(train_df[[\"POS_7DAYAVG\"]], train_df[\"DTH_NEW_2WK\"])\n"
      ],
      "execution_count": null,
      "outputs": [
        {
          "output_type": "execute_result",
          "data": {
            "text/plain": [
              "0.1476427275080019"
            ]
          },
          "metadata": {
            "tags": []
          },
          "execution_count": 42
        }
      ]
    },
    {
      "cell_type": "code",
      "metadata": {
        "colab": {
          "base_uri": "https://localhost:8080/"
        },
        "id": "xyB_C1hLxC3z",
        "outputId": "51a99915-afb2-405c-fe85-36f6fc8ab934"
      },
      "source": [
        "train_df[\"DTH_NEW_2WK\"].var(), test_df[\"DTH_NEW_2WK\"].var()\n",
        "\n",
        "#How variance is related to score??"
      ],
      "execution_count": null,
      "outputs": [
        {
          "output_type": "execute_result",
          "data": {
            "text/plain": [
              "(1.4326381483646191, 0.7114113477711038)"
            ]
          },
          "metadata": {
            "tags": []
          },
          "execution_count": 46
        }
      ]
    },
    {
      "cell_type": "markdown",
      "metadata": {
        "id": "bab85ABuxssv"
      },
      "source": [
        "**Error Functions**"
      ]
    },
    {
      "cell_type": "code",
      "metadata": {
        "colab": {
          "base_uri": "https://localhost:8080/"
        },
        "id": "ua_cHAdHxwns",
        "outputId": "0810f005-5876-4fc1-c2cb-99081290994f"
      },
      "source": [
        "from sklearn.metrics import r2_score, mean_absolute_error\n",
        "#r2_score , MAE these are metrics\n",
        "# METRICS(TRUE values, Predicted values)\n",
        "\n",
        "r2_score(test_df[\"DTH_NEW_2WK\"], lr.predict(test_df[[\"POS_7DAYAVG\"]])) #True value holo y er test. predict value holo x er test. \n"
      ],
      "execution_count": null,
      "outputs": [
        {
          "output_type": "execute_result",
          "data": {
            "text/plain": [
              "0.24791366751225297"
            ]
          },
          "metadata": {
            "tags": []
          },
          "execution_count": 48
        }
      ]
    },
    {
      "cell_type": "code",
      "metadata": {
        "id": "oxPkW53Y1XPF"
      },
      "source": [
        ""
      ],
      "execution_count": null,
      "outputs": []
    }
  ]
}