{
  "nbformat": 4,
  "nbformat_minor": 0,
  "metadata": {
    "colab": {
      "name": "Data_Visualization_MatPlotlib.ipynb",
      "provenance": []
    },
    "kernelspec": {
      "name": "python3",
      "display_name": "Python 3"
    },
    "language_info": {
      "name": "python"
    }
  },
  "cells": [
    {
      "cell_type": "markdown",
      "metadata": {
        "id": "YN5Tls3puTBe"
      },
      "source": [
        "**Plot**\n",
        "\n",
        "> step-01: Import the required libraries\n",
        "\n",
        "\n",
        "> Step-02: Define/Import the dataset\n",
        "\n",
        "> Step-03: Set the plot parameters\n",
        "\n",
        "> Step-04: Display the created plot\n",
        "\n",
        "\n",
        "\n",
        "\n",
        "\n",
        "\n",
        "\n",
        "\n",
        "\n",
        "\n",
        "\n"
      ]
    },
    {
      "cell_type": "code",
      "metadata": {
        "id": "F_hMhpCHuWCG"
      },
      "source": [
        "%matplotlib inline \n",
        "#display the plot within notebook\n",
        "import numpy as np\n",
        "import matplotlib.pyplot as plt\n",
        "from matplotlib import style #set the grid style"
      ],
      "execution_count": 7,
      "outputs": []
    },
    {
      "cell_type": "code",
      "metadata": {
        "colab": {
          "base_uri": "https://localhost:8080/"
        },
        "id": "Na2M8ubFvXf5",
        "outputId": "133b6d87-ea11-48ad-b361-f34b6b7c84d8"
      },
      "source": [
        "randomNumber = np.random.rand(10)\n",
        "randomNumber"
      ],
      "execution_count": 9,
      "outputs": [
        {
          "output_type": "execute_result",
          "data": {
            "text/plain": [
              "array([0.7121348 , 0.56335509, 0.69652213, 0.27241354, 0.588445  ,\n",
              "       0.04731067, 0.97298227, 0.40746217, 0.65536861, 0.7137855 ])"
            ]
          },
          "metadata": {
            "tags": []
          },
          "execution_count": 9
        }
      ]
    },
    {
      "cell_type": "code",
      "metadata": {
        "id": "YYhWx5Y3v78g"
      },
      "source": [
        "#select the style of the plot\n",
        "style.use('ggplot')\n",
        "#plot the randomNumber\n",
        "plt.plot(randomNumber, 'g', label='line one', linewidth=3) #g means green. \n",
        "#X axis is number of random numbers(index)\n",
        "plt.xlabel('Range')\n",
        "#y axis is actual random number\n",
        "plt.ylabel('Numbers')\n",
        "#title of the plot\n",
        "plt.title(\"First Plot\")"
      ],
      "execution_count": null,
      "outputs": []
    },
    {
      "cell_type": "code",
      "metadata": {
        "id": "ekigL6Oi1CIw"
      },
      "source": [
        "plt.legend()\n",
        "plt.show()"
      ],
      "execution_count": null,
      "outputs": []
    },
    {
      "cell_type": "markdown",
      "metadata": {
        "id": "5dTMfemi1fOY"
      },
      "source": [
        "**Plot with (X,Y)/2D plot**\n",
        "\n",
        "\n",
        "Suppose, user vs time 2D plot\n"
      ]
    },
    {
      "cell_type": "code",
      "metadata": {
        "id": "wgyENe1S1nWH"
      },
      "source": [
        "users = [120,340,655,560,788,343,909,677,345,787]\n",
        "time = [6,7,9,10,11,12,14,15,16,17]"
      ],
      "execution_count": 28,
      "outputs": []
    },
    {
      "cell_type": "code",
      "metadata": {
        "colab": {
          "base_uri": "https://localhost:8080/",
          "height": 316
        },
        "id": "fc4swKgb2kHg",
        "outputId": "1f8ad5be-eb98-4c57-e16a-5bddf05e80c7"
      },
      "source": [
        "style.use('ggplot')\n",
        "#plt.plot(x,y)\n",
        "plt.plot(time,users, 'g', linewidth=2)\n",
        "plt.title(\"USERS VS TIME\")\n",
        "plt.xlabel('hrs')\n",
        "plt.ylabel('user')"
      ],
      "execution_count": 32,
      "outputs": [
        {
          "output_type": "execute_result",
          "data": {
            "text/plain": [
              "Text(0, 0.5, 'user')"
            ]
          },
          "metadata": {
            "tags": []
          },
          "execution_count": 32
        },
        {
          "output_type": "display_data",
          "data": {
            "image/png": "[encoded data removed]",
            "text/plain": [
              "<Figure size 432x288 with 1 Axes>"
            ]
          },
          "metadata": {
            "tags": []
          }
        }
      ]
    },
    {
      "cell_type": "markdown",
      "metadata": {
        "id": "iuMVCkGS3yJi"
      },
      "source": [
        "**Controlling line pattern and color**"
      ]
    },
    {
      "cell_type": "code",
      "metadata": {
        "colab": {
          "base_uri": "https://localhost:8080/",
          "height": 316
        },
        "id": "8BX4SGIB32gu",
        "outputId": "288c14fc-655c-47fc-d791-5058c040a0a9"
      },
      "source": [
        "style.use('ggplot')\n",
        "#plt.plot(x,y)\n",
        "plt.plot(time,users, color='gray',label =\"traffic\", linestyle='--',linewidth=2)\n",
        "plt.title(\"USERS VS TIME\")\n",
        "plt.xlabel('hrs')\n",
        "plt.ylabel('user')"
      ],
      "execution_count": 43,
      "outputs": [
        {
          "output_type": "execute_result",
          "data": {
            "text/plain": [
              "Text(0, 0.5, 'user')"
            ]
          },
          "metadata": {
            "tags": []
          },
          "execution_count": 43
        },
        {
          "output_type": "display_data",
          "data": {
            "image/png": "[encoded data removed]",
            "text/plain": [
              "<Figure size 432x288 with 1 Axes>"
            ]
          },
          "metadata": {
            "tags": []
          }
        }
      ]
    },
    {
      "cell_type": "markdown",
      "metadata": {
        "id": "FpxM0bBZC_FO"
      },
      "source": [
        "**Set Axis**\n",
        "\n",
        "We can set the range of the axis.\n",
        "\n"
      ]
    },
    {
      "cell_type": "code",
      "metadata": {
        "colab": {
          "base_uri": "https://localhost:8080/",
          "height": 316
        },
        "id": "iCFoAOqDDIk1",
        "outputId": "32e4bd9a-ad95-422e-a9a0-d9508a0304a7"
      },
      "source": [
        "style.use('ggplot')\n",
        "plt.plot(time,users, color='gray',label =\"traffic\", linestyle='--',linewidth=2)\n",
        "plt.title(\"USERS VS TIME\")\n",
        "\n",
        "# plt.axis([6.5,17.5,50,1000]) # Can define any values\n",
        "\n",
        "plt.xlabel('hrs')\n",
        "plt.ylabel('user')"
      ],
      "execution_count": 45,
      "outputs": [
        {
          "output_type": "execute_result",
          "data": {
            "text/plain": [
              "Text(0, 0.5, 'user')"
            ]
          },
          "metadata": {
            "tags": []
          },
          "execution_count": 45
        },
        {
          "output_type": "display_data",
          "data": {
            "image/png": "[encoded data removed]",
            "text/plain": [
              "<Figure size 432x288 with 1 Axes>"
            ]
          },
          "metadata": {
            "tags": []
          }
        }
      ]
    },
    {
      "cell_type": "markdown",
      "metadata": {
        "id": "avhtF_KDDtL-"
      },
      "source": [
        "**Transperancy of Line**\n",
        "\n",
        "\n",
        "Alpha and annotation.\n",
        "\n",
        "\n",
        "\n",
        "Lower the alpha, more transparent the line is. \n",
        "\n",
        "\n"
      ]
    },
    {
      "cell_type": "code",
      "metadata": {
        "colab": {
          "base_uri": "https://localhost:8080/",
          "height": 286
        },
        "id": "5NUHeCMpEDot",
        "outputId": "4c8347fd-3771-454c-c53c-9fd46b02a0d9"
      },
      "source": [
        "plt.plot(time,users,alpha=.4)\n",
        "plt.axis([6.5,19.5,50,1800]) # Can define any values\n",
        "plt.annotate('Max', ha='center', va='bottom', xytext=(12,900), xy=(14,900),arrowprops={ 'facecolor' : 'green' } ) #position of arrow and text need to set manually"
      ],
      "execution_count": 70,
      "outputs": [
        {
          "output_type": "execute_result",
          "data": {
            "text/plain": [
              "Text(12, 900, 'Max')"
            ]
          },
          "metadata": {
            "tags": []
          },
          "execution_count": 70
        },
        {
          "output_type": "display_data",
          "data": {
            "image/png": "[encoded data removed]",
            "text/plain": [
              "<Figure size 432x288 with 1 Axes>"
            ]
          },
          "metadata": {
            "tags": []
          }
        }
      ]
    },
    {
      "cell_type": "markdown",
      "metadata": {
        "id": "ig2WrGJmIueG"
      },
      "source": [
        "**Multiple Plots**"
      ]
    },
    {
      "cell_type": "code",
      "metadata": {
        "id": "SNYe8ihdIwzm"
      },
      "source": [
        "monday_users = [120,340,655,560,788,343,909,677,345,787]\n",
        "tuesday_users = [100,300,600,566,700,304,900,670,300,780]\n",
        "wednesday_users = [126,340,655,566,787,341,889,677,340,566]\n",
        "\n",
        "time = [6,7,9,10,11,12,14,15,16,17]"
      ],
      "execution_count": 78,
      "outputs": []
    },
    {
      "cell_type": "code",
      "metadata": {
        "id": "CESTCEiaJame"
      },
      "source": [
        "plt.plot(time,monday_users,'r',label='monday',linewidth=1)\n",
        "plt.plot(time,tuesday_users,'g',label='tuesday',linewidth=1.5)\n",
        "plt.plot(time,wednesday_users,'b',label='wednesday',linewidth=2) #Legend dekhacce nah !!!!\n"
      ],
      "execution_count": null,
      "outputs": []
    },
    {
      "cell_type": "markdown",
      "metadata": {
        "id": "KAJPxIBWLxP0"
      },
      "source": [
        "**Subplot**\n",
        "\n",
        "> syntax: subplot(m,n,p)\n",
        "It divides the current window into an mxn grid and creates an axis for a subplot in the position specified by p.\n",
        "\n",
        "> plt.subplot_adjust() with hspace,wspace to adjust the distance between the subplot and move them around on the grid.\n",
        "\n",
        "\n",
        "\n"
      ]
    },
    {
      "cell_type": "code",
      "metadata": {
        "id": "7yojjQcNNHsu"
      },
      "source": [
        "#import data\n",
        "time = [10,15,20,25,30]\n",
        "wind = [31,33,36,39,43]\n",
        "temp = [30,40,50,60,70]\n",
        "humidity = [45,50,55,60,65]\n",
        "precipitaion = [70,75,80,90,100]"
      ],
      "execution_count": 92,
      "outputs": []
    },
    {
      "cell_type": "code",
      "metadata": {
        "colab": {
          "base_uri": "https://localhost:8080/",
          "height": 282
        },
        "id": "zHNJoWYzNOkR",
        "outputId": "681a7b6e-305a-4df8-c46a-b225a4113869"
      },
      "source": [
        "#draw subplots for (1,2,1) and (1,2,2)\n",
        "plt.figure(figsize=(8,4)) # width x height\n",
        "plt.subplots_adjust(hspace=.25)\n",
        "\n",
        "plt.subplot(1,2,1)\n",
        "plt.title(\"Temp\")\n",
        "plt.plot(time,temp, color='b', linestyle='-', linewidth=1)\n",
        "plt.grid(False) # background grid will be gone\n",
        "\n",
        "plt.subplot(1,2,2)\n",
        "plt.title(\"Wind\")\n",
        "plt.plot(time,wind, color='g', linestyle='-', linewidth=1)\n",
        "plt.grid(False)"
      ],
      "execution_count": 97,
      "outputs": [
        {
          "output_type": "display_data",
          "data": {
            "image/png": "[encoded data removed]",
            "text/plain": [
              "<Figure size 576x288 with 2 Axes>"
            ]
          },
          "metadata": {
            "tags": []
          }
        }
      ]
    },
    {
      "cell_type": "code",
      "metadata": {
        "colab": {
          "base_uri": "https://localhost:8080/",
          "height": 391
        },
        "id": "W_JODqOUNVj9",
        "outputId": "76e01639-58a2-4d87-8280-85439e3480c1"
      },
      "source": [
        "#draw subplots for (2,1,1) and (2,1,2)\n",
        "plt.figure(figsize=(6,6)) # width x height\n",
        "plt.subplots_adjust(hspace=.75) #hspace = gap from one graph to another\n",
        "\n",
        "plt.subplot(2,1,1)\n",
        "plt.title(\"Temp\")\n",
        "plt.plot(time,temp, color='b', linestyle='-', linewidth=1)\n",
        "plt.grid(False) # background grid will be gone\n",
        "\n",
        "plt.subplot(2,1,2)\n",
        "plt.title(\"Wind\")\n",
        "plt.plot(time,wind, color='g', linestyle='-', linewidth=1)\n",
        "plt.grid(False)\n"
      ],
      "execution_count": 104,
      "outputs": [
        {
          "output_type": "display_data",
          "data": {
            "image/png": "[encoded data removed]",
            "text/plain": [
              "<Figure size 432x432 with 2 Axes>"
            ]
          },
          "metadata": {
            "tags": []
          }
        }
      ]
    },
    {
      "cell_type": "code",
      "metadata": {
        "id": "Lc8VvVI5NeP2"
      },
      "source": [
        "#draw subplot for (2,2,1), (2,2,2), (2,2,3) and (2,2,4)\n",
        "plt.figure(figsize=(8,8)) # width x height\n",
        "plt.subplots_adjust(hspace=.45) #hspace = gap from one graph to another\n",
        "plt.subplots_adjust(wspace=.55) #hspace = gap from one graph to another\n",
        "\n",
        "plt.subplot(2,2,1)\n",
        "plt.title(\"Temp\")\n",
        "plt.plot(time,temp, color='b', linestyle='-', linewidth=1)\n",
        "plt.grid(False) # background grid will be gone\n",
        "\n",
        "plt.subplot(2,2,2)\n",
        "plt.title(\"humidity\")\n",
        "plt.plot(time,humidity, color='g', linestyle='-', linewidth=1)\n",
        "plt.grid(False)\n",
        "\n",
        "plt.subplot(2,2,3)\n",
        "plt.title(\"precipitaion\")\n",
        "plt.plot(time,precipitaion, color='b', linestyle='-', linewidth=1)\n",
        "plt.grid(False) # background grid will be gone\n",
        "\n",
        "plt.subplot(2,2,4)\n",
        "plt.title(\"Wind\")\n",
        "plt.plot(time,wind, color='g', linestyle='-', linewidth=1)\n",
        "plt.grid(False)"
      ],
      "execution_count": null,
      "outputs": []
    },
    {
      "cell_type": "markdown",
      "metadata": {
        "id": "fAHHDJ9wWTIH"
      },
      "source": [
        "**Histogram**"
      ]
    },
    {
      "cell_type": "code",
      "metadata": {
        "id": "WFxT4AcyWcxl"
      },
      "source": [
        "from sklearn.datasets import load_boston\n",
        "df = load_boston()"
      ],
      "execution_count": 112,
      "outputs": []
    },
    {
      "cell_type": "code",
      "metadata": {
        "id": "xTtimws_W6G-"
      },
      "source": [
        "x_axis = df.data"
      ],
      "execution_count": 113,
      "outputs": []
    },
    {
      "cell_type": "code",
      "metadata": {
        "id": "DxSn7MjUXeQN"
      },
      "source": [
        "y_axis = df.target"
      ],
      "execution_count": 114,
      "outputs": []
    },
    {
      "cell_type": "code",
      "metadata": {
        "colab": {
          "base_uri": "https://localhost:8080/",
          "height": 462
        },
        "id": "hyoQUXa_XiBd",
        "outputId": "d14c8677-4a59-4e2a-87c5-61c27c064a7a"
      },
      "source": [
        "style.use('ggplot')\n",
        "plt.figure(figsize=(7,7))\n",
        "plt.hist(y_axis,bins=60)\n",
        "plt.xlabel('Price')\n",
        "plt.ylabel('Number of houses')"
      ],
      "execution_count": 119,
      "outputs": [
        {
          "output_type": "execute_result",
          "data": {
            "text/plain": [
              "Text(0, 0.5, 'Number of houses')"
            ]
          },
          "metadata": {
            "tags": []
          },
          "execution_count": 119
        },
        {
          "output_type": "display_data",
          "data": {
            "image/png": "[encoded data removed]",
            "text/plain": [
              "<Figure size 504x504 with 1 Axes>"
            ]
          },
          "metadata": {
            "tags": []
          }
        }
      ]
    },
    {
      "cell_type": "markdown",
      "metadata": {
        "id": "ExpIK0vDYa2x"
      },
      "source": [
        "**Scatter** **Plot**"
      ]
    },
    {
      "cell_type": "code",
      "metadata": {
        "id": "hrK4re2xYeAl"
      },
      "source": [
        "x=randomNumber = np.random.rand(100)\n",
        "y=randomNumber = np.random.rand(100)\n",
        "\n",
        "style.use('ggplot')\n",
        "plt.figure(figsize=(7,7))\n",
        "\n",
        "plt.scatter(x, y) # X and Y must be the same size. Array or dataframe must be same in size.\n",
        "\n",
        "plt.xlabel('Price')\n",
        "plt.ylabel('Number of houses')"
      ],
      "execution_count": null,
      "outputs": []
    },
    {
      "cell_type": "markdown",
      "metadata": {
        "id": "uWOImRkuZ_a3"
      },
      "source": [
        "**HeatMap**\n",
        "\n",
        "\n",
        "> Use for 2D data\n",
        "\n"
      ]
    },
    {
      "cell_type": "code",
      "metadata": {
        "colab": {
          "base_uri": "https://localhost:8080/",
          "height": 204
        },
        "id": "pPc9Zzk5aBsw",
        "outputId": "f349c0d6-4403-4bfa-bd92-2923c423ea52"
      },
      "source": [
        "import seaborn as sns\n",
        "flight_data = sns.load_dataset('flights')\n",
        "flight_data.head()"
      ],
      "execution_count": 130,
      "outputs": [
        {
          "output_type": "execute_result",
          "data": {
            "text/html": [
              "<div>\n",
              "<style scoped>\n",
              "    .dataframe tbody tr th:only-of-type {\n",
              "        vertical-align: middle;\n",
              "    }\n",
              "\n",
              "    .dataframe tbody tr th {\n",
              "        vertical-align: top;\n",
              "    }\n",
              "\n",
              "    .dataframe thead th {\n",
              "        text-align: right;\n",
              "    }\n",
              "</style>\n",
              "<table border=\"1\" class=\"dataframe\">\n",
              "  <thead>\n",
              "    <tr style=\"text-align: right;\">\n",
              "      <th></th>\n",
              "      <th>year</th>\n",
              "      <th>month</th>\n",
              "      <th>passengers</th>\n",
              "    </tr>\n",
              "  </thead>\n",
              "  <tbody>\n",
              "    <tr>\n",
              "      <th>0</th>\n",
              "      <td>1949</td>\n",
              "      <td>Jan</td>\n",
              "      <td>112</td>\n",
              "    </tr>\n",
              "    <tr>\n",
              "      <th>1</th>\n",
              "      <td>1949</td>\n",
              "      <td>Feb</td>\n",
              "      <td>118</td>\n",
              "    </tr>\n",
              "    <tr>\n",
              "      <th>2</th>\n",
              "      <td>1949</td>\n",
              "      <td>Mar</td>\n",
              "      <td>132</td>\n",
              "    </tr>\n",
              "    <tr>\n",
              "      <th>3</th>\n",
              "      <td>1949</td>\n",
              "      <td>Apr</td>\n",
              "      <td>129</td>\n",
              "    </tr>\n",
              "    <tr>\n",
              "      <th>4</th>\n",
              "      <td>1949</td>\n",
              "      <td>May</td>\n",
              "      <td>121</td>\n",
              "    </tr>\n",
              "  </tbody>\n",
              "</table>\n",
              "</div>"
            ],
            "text/plain": [
              "   year month  passengers\n",
              "0  1949   Jan         112\n",
              "1  1949   Feb         118\n",
              "2  1949   Mar         132\n",
              "3  1949   Apr         129\n",
              "4  1949   May         121"
            ]
          },
          "metadata": {
            "tags": []
          },
          "execution_count": 130
        }
      ]
    },
    {
      "cell_type": "code",
      "metadata": {
        "id": "4TFLiPslajrd"
      },
      "source": [
        "f = flight_data.pivot('month', 'year','passengers') #Error !!!\n",
        "\n",
        "\n"
      ],
      "execution_count": null,
      "outputs": []
    },
    {
      "cell_type": "markdown",
      "metadata": {
        "id": "6XyeBxeUcAwm"
      },
      "source": [
        "**Pie Chart**"
      ]
    },
    {
      "cell_type": "code",
      "metadata": {
        "id": "jPVfAtdrcAJ2"
      },
      "source": [
        "data = [20,40,30,23]\n",
        "labels = ['A','B','C','D']\n",
        "\n",
        "explode = (0.05,0.05,0,0) #Explode means onno pie theke gap thakbe\n",
        "# explode = (0,0,0,0)\n",
        "\n",
        "plt.pie(data, labels=labels, explode=explode)"
      ],
      "execution_count": null,
      "outputs": []
    },
    {
      "cell_type": "markdown",
      "metadata": {
        "id": "461rBgeKddMk"
      },
      "source": [
        "**Error Bars**"
      ]
    },
    {
      "cell_type": "code",
      "metadata": {
        "id": "UocJQZpkdfGg"
      },
      "source": [
        ""
      ],
      "execution_count": null,
      "outputs": []
    }
  ]
}